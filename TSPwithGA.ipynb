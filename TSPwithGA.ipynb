{
  "nbformat": 4,
  "nbformat_minor": 0,
  "metadata": {
    "colab": {
      "name": "TSPwithGA.ipynb",
      "provenance": [],
      "collapsed_sections": [],
      "include_colab_link": true
    },
    "kernelspec": {
      "name": "python3",
      "display_name": "Python 3"
    },
    "language_info": {
      "name": "python"
    }
  },
  "cells": [
    {
      "cell_type": "markdown",
      "metadata": {
        "id": "view-in-github",
        "colab_type": "text"
      },
      "source": [
        "<a href=\"https://colab.research.google.com/github/Gabinson200/ED2-DronePythonCode/blob/main/TSPwithGA.ipynb\" target=\"_parent\"><img src=\"https://colab.research.google.com/assets/colab-badge.svg\" alt=\"Open In Colab\"/></a>"
      ]
    },
    {
      "cell_type": "markdown",
      "metadata": {
        "id": "3FwZ0t5auhTT"
      },
      "source": [
        "### James Warszycki, Adam Kocsis\n",
        "### Dr. Marques Oge\n",
        "### CAP 4630\n",
        "### Due Date:  7/8/2021\n",
        "### Assignment 2\n",
        "> This program implements an interactive solution to the travelling salesman problem."
      ]
    },
    {
      "cell_type": "code",
      "metadata": {
        "id": "S8Y3QRIh_DUU"
      },
      "source": [
        "#importing libraries\n",
        "import numpy as np, random, operator\n",
        "import pandas as pd\n",
        "import matplotlib.pyplot as plt\n",
        "import math"
      ],
      "execution_count": null,
      "outputs": []
    },
    {
      "cell_type": "code",
      "metadata": {
        "id": "nKBHxMhpAcV9"
      },
      "source": [
        "# Used to represent the points that the travelling salesmen must pass through\n",
        "class City:\n",
        "  def __init__(self, x, y, label):\n",
        "    self.x = x\n",
        "    self.y = y\n",
        "    self.label = label"
      ],
      "execution_count": null,
      "outputs": []
    },
    {
      "cell_type": "code",
      "metadata": {
        "id": "cK4YDiISAcYP"
      },
      "source": [
        "# class used to determine the fitness of individual routes\n",
        "class Fitness:\n",
        "  def __init__(self, route):\n",
        "    self.route = route\n",
        "    self.distance = 0\n",
        "    self.fitness = 0.0\n",
        "\n",
        "  def distance_between(self, pointA, pointB):\n",
        "    return math.sqrt(math.pow(pointB.x - pointA.x, 2) + math.pow(pointB.y - pointA.y, 2))\n",
        "\n",
        "  def routeDistance(self):\n",
        "    distance = 0\n",
        "    for i in range(1,len(self.route)):\n",
        "      distance += self.distance_between(self.route[i], self.route[i-1])\n",
        "    distance += self.distance_between(self.route[len(self.route) - 1], self.route[0])\n",
        "    return distance\n",
        "    \n",
        "  #returns the fitness value (inverse of the route distance)\n",
        "  def routeFitness(self):\n",
        "    if self.fitness == 0:\n",
        "      self.fitness = 1 / float(self.routeDistance())\n",
        "    return self.fitness "
      ],
      "execution_count": null,
      "outputs": []
    },
    {
      "cell_type": "code",
      "metadata": {
        "id": "uKjtt9XPAcdF"
      },
      "source": [
        "#creates a list of size pop_size made of randomly sampled city lists\n",
        "def initialPopulation(pop_size, city_list):\n",
        "  population = []\n",
        "  for i in range(0, pop_size):\n",
        "    population.append(random.sample(city_list, len(city_list)))\n",
        "  return population"
      ],
      "execution_count": null,
      "outputs": []
    },
    {
      "cell_type": "code",
      "metadata": {
        "id": "vasZkL8WAcf8"
      },
      "source": [
        "#represents the fitness of individuals and their fitness using a dictionary\n",
        "def rankRoutes(population):\n",
        "  #empty dictionary\n",
        "  fitness_results = {}\n",
        "  for i in range(0, len(population)):\n",
        "    fitness_results[i] = Fitness(population[i]).routeFitness()\n",
        "  #sorts dictionary based off of fitness\n",
        "  sorted_fitness_results = sorted(fitness_results.items(), key = operator.itemgetter(1), reverse = True)\n",
        "  #uncomment below to see results\n",
        "  #print(sorted_fitness_results)\n",
        "  return sorted_fitness_results"
      ],
      "execution_count": null,
      "outputs": []
    },
    {
      "cell_type": "code",
      "metadata": {
        "id": "OSMVxvhlZxU0"
      },
      "source": [
        "# selects the parents that will be used to create the next generation\n",
        "def selection(pop_ranked, elite_size):\n",
        "  selection_results = []\n",
        "  df = pd.DataFrame(np.array(pop_ranked), columns = [\"Index\", \"Fitness\"])\n",
        "  #sums up the fitness values of all city lists in population\n",
        "  df['cum_sum'] = df.Fitness.cumsum()\n",
        "  #give percentage to each city list based off of fitness\n",
        "  df['cum_perc'] = 100 * df.cum_sum / df.Fitness.sum()\n",
        "\n",
        "  # automatically appends the first (elite_sized) members of population which have ranked the best\n",
        "  for i in range(0, elite_size):\n",
        "    selection_results.append(pop_ranked[i][0])\n",
        "\n",
        "  for j in range(0, len(pop_ranked) - elite_size):\n",
        "    #random integer between 0 and 100\n",
        "    pick = 100 * random.random()\n",
        "    for i in range(0, len(pop_ranked)):\n",
        "      #if random pick value is less than or equal to i'th row's cum_perc value we append the city dictionary\n",
        "      if pick <= df.iat[i, 3]:\n",
        "        selection_results.append(pop_ranked[i][0])\n",
        "        break\n",
        "  #returns a list of route ids\n",
        "  #print(selection_results)\n",
        "  return selection_results"
      ],
      "execution_count": null,
      "outputs": []
    },
    {
      "cell_type": "code",
      "metadata": {
        "id": "_-THdsU0ZxXW"
      },
      "source": [
        "#adds selected individuals to mating_pool\n",
        "def matingPool(population, selection_results):\n",
        "  mating_pool = []\n",
        "  for i in range(0, len(selection_results)):\n",
        "    index = selection_results[i]\n",
        "    mating_pool.append(population[index])\n",
        "  return mating_pool"
      ],
      "execution_count": null,
      "outputs": []
    },
    {
      "cell_type": "code",
      "metadata": {
        "id": "2sShdDeDZxaA"
      },
      "source": [
        "#we are using ordered crossover\n",
        "def ordered_cross(parent1, parent2):\n",
        "  child = []\n",
        "  child_parent1 = []\n",
        "  child_parent2 = []\n",
        "  \n",
        "  #this part is just so we can get a range which is less than the size of the list of cities\n",
        "  geneA = int(random.random() * len(parent1))\n",
        "  geneB = int(random.random() * len(parent1))\n",
        "  start_gene = min(geneA, geneB)\n",
        "  end_gene = max(geneA, geneB)\n",
        "\n",
        "  for i in range(start_gene, end_gene):\n",
        "    child_parent1.append(parent1[i])\n",
        "\n",
        "  child_parent2 = [item for item in parent2 if item not in child_parent1]\n",
        "\n",
        "  child = child_parent2[:start_gene] + child_parent1 + child_parent2[start_gene:]\n",
        "  return child"
      ],
      "execution_count": null,
      "outputs": []
    },
    {
      "cell_type": "code",
      "metadata": {
        "id": "FWey0dccZxcc"
      },
      "source": [
        "def breedPopulation(mating_pool, elite_size):\n",
        "  children = []\n",
        "  length = len(mating_pool) - elite_size\n",
        "  pool = random.sample(mating_pool, len(mating_pool))\n",
        "\n",
        "  #for the elite genes\n",
        "  for i in range (0, elite_size):\n",
        "    children.append(mating_pool[i])\n",
        "  #if odd number then middle odd is saved basically\n",
        "  for i in range(0, length):\n",
        "    child = ordered_cross(pool[i], pool[len(mating_pool)-i-1])\n",
        "    children.append(child)\n",
        "  return children"
      ],
      "execution_count": null,
      "outputs": []
    },
    {
      "cell_type": "code",
      "metadata": {
        "id": "kaPJgfajvRKW"
      },
      "source": [
        "#modified this so the first element will never be swapped out of place (execute and test once based is done)\n",
        "#we will use swap mutation (swaps the place of one city with another in the list of cities)\n",
        "def mutate(individual, mutation_rate):\n",
        "  #for every city in list\n",
        "  for swapped in range(1, len(individual)):\n",
        "    #if we mutate by chance (low probability)\n",
        "    if(random.random() < mutation_rate):\n",
        "      swap_with = int(random.random() * len(individual))\n",
        "      city1 = individual[swapped]\n",
        "      city2 = individual[swap_with]\n",
        "\n",
        "      individual[swapped] = city2\n",
        "      individual[swap_with] = city1\n",
        "  return individual"
      ],
      "execution_count": null,
      "outputs": []
    },
    {
      "cell_type": "code",
      "metadata": {
        "id": "lP5Llo_ysaTG"
      },
      "source": [
        "#we will use swap mutation (swaps the place of one city with another in the list of cities)\n",
        "# def mutate(individual, mutation_rate):\n",
        "#   #for every city in list\n",
        "#   for swapped in range(len(individual)):\n",
        "#     #if we mutate by chance (low probability)\n",
        "#     if(random.random() < mutation_rate):\n",
        "#       swap_with = int(random.random() * len(individual))\n",
        "#       city1 = individual[swapped]\n",
        "#       city2 = individual[swap_with]\n",
        "\n",
        "#       individual[swapped] = city2\n",
        "#       individual[swap_with] = city1\n",
        "#   return individual"
      ],
      "execution_count": null,
      "outputs": []
    },
    {
      "cell_type": "code",
      "metadata": {
        "id": "5r9g74X-saVh"
      },
      "source": [
        "#loops through the population and mutates the individuals inside \n",
        "def mutatePopulation(population, mutation_rate):\n",
        "  mutated_pop = []\n",
        "  for ind in range(0, len(population)):\n",
        "    mutated_ind = mutate(population[ind], mutation_rate)\n",
        "    mutated_pop.append(mutated_ind)\n",
        "  return mutated_pop"
      ],
      "execution_count": null,
      "outputs": []
    },
    {
      "cell_type": "code",
      "metadata": {
        "id": "K5is1eXvsaaN"
      },
      "source": [
        "def nextGeneration(current_gen, elite_size, mutation_rate):\n",
        "  pop_ranked = rankRoutes(current_gen)\n",
        "  selection_results = selection(pop_ranked, elite_size)\n",
        "  mating_pool = matingPool(current_gen, selection_results)\n",
        "  children = breedPopulation(mating_pool, elite_size)\n",
        "  next_gen = mutatePopulation(children, mutation_rate)\n",
        "  return next_gen"
      ],
      "execution_count": null,
      "outputs": []
    },
    {
      "cell_type": "code",
      "metadata": {
        "id": "aKvJuVYgwQ97"
      },
      "source": [
        "def geneticAlgorithm(population, pop_size, elite_size, mutation_rate, generations):\n",
        "  pop = initialPopulation(pop_size, population)\n",
        "  print(\"Initial distance: \" + str(1 / rankRoutes(pop)[0][1]))\n",
        "\n",
        "  for i in range(0, generations):\n",
        "    pop = nextGeneration(pop, elite_size, mutation_rate)\n",
        "\n",
        "  print(\"Final distance: \" + str(1/ rankRoutes(pop)[0][1]))\n",
        "  best_route_indexes = rankRoutes(pop)\n",
        "  best_route_index = best_route_indexes[0][0]\n",
        "  best_route = pop[best_route_index]\n",
        "\n",
        "  best_labeled_route = []\n",
        "  for i in range(0, len(best_route)):\n",
        "    best_labeled_route.append(best_route[i].label)\n",
        "  print(best_labeled_route)\n",
        "  \n",
        "  return best_route"
      ],
      "execution_count": null,
      "outputs": []
    },
    {
      "cell_type": "code",
      "metadata": {
        "id": "tURmOHHrtEWh"
      },
      "source": [
        "def mapPoints(points):\n",
        "  for point in points:\n",
        "    plt.scatter(point.x, point.y, c = \"red\", marker = \"o\")\n",
        "    plt.text(point.x, point.y, point.label, fontweight = \"bold\")\n",
        "  plt.show()\n",
        "\n",
        "def mapPath(path):\n",
        "  x = []\n",
        "  y = []\n",
        "  for point in path:\n",
        "    x.append(point.x)\n",
        "    y.append(point.y)\n",
        "    plt.text(point.x, point.y, point.label, fontweight = \"bold\")\n",
        "  x.append(path[0].x)\n",
        "  y.append(path[0].y)\n",
        "  plt.plot(x, y, \"-o\")\n",
        "  plt.show()"
      ],
      "execution_count": null,
      "outputs": []
    },
    {
      "cell_type": "markdown",
      "metadata": {
        "id": "wPnBOek9Z-zT"
      },
      "source": [
        "### User Input:\n",
        "#### (Must run above cells first)"
      ]
    },
    {
      "cell_type": "code",
      "metadata": {
        "colab": {
          "base_uri": "https://localhost:8080/",
          "height": 367
        },
        "id": "hGWX4mVCZ8M6",
        "outputId": "a8797fa8-7738-4c23-9b8f-284c24166b2a"
      },
      "source": [
        "print(\"Welcome to James Warszycki and Adam Kocsis's solution to CAP 4630 Assignment 2\")\n",
        "print(\"This program implements an interactive solution to the classical AI Traveling Salesman Problem.\")\n",
        "\n",
        "quit = False\n",
        "while quit != True:\n",
        "    print()\n",
        "    seed = input(\"Input a seed to randomly generate the city locations: \")\n",
        "    random.seed(seed)\n",
        "\n",
        "    city_list = []\n",
        "    for i in range(0,25):\n",
        "      city_list.append(City(x = int(random.random() * 200), y = int(random.random() * 200), label = chr(65 + i)))\n",
        "\n",
        "    mapPoints(city_list)\n",
        "\n",
        "    gens = input(\"Input number of generations to run evolution for (higher is better, but increases computational time)(50 or above is recommended): \")\n",
        "\n",
        "    best_route_obj_list = geneticAlgorithm(population=city_list, pop_size=100, elite_size=20, mutation_rate=0.01, generations=int(gens))\n",
        "    best_route_cities = np.array(best_route_obj_list)\n",
        "    #print()\n",
        "    #for city in best_route_cities:\n",
        "    #  print(city.label, \"(\", city.x, \",\", city.y, \")\")\n",
        "\n",
        "    mapPath(best_route_cities)\n",
        "\n",
        "    check = input(\"Would you like to retry with another seed or number of generations (Y or N): \")\n",
        "\n",
        "    if check == \"N\":\n",
        "      quit = True"
      ],
      "execution_count": null,
      "outputs": [
        {
          "output_type": "stream",
          "text": [
            "Welcome to James Warszycki and Adam Kocsis's solution to CAP 4630 Assignment 2\n",
            "This program implements an interactive solution to the classical AI Traveling Salesman Problem.\n",
            "\n",
            "Input a seed to randomly generate the city locations: 10\n"
          ],
          "name": "stdout"
        },
        {
          "output_type": "display_data",
          "data": {
            "image/png": "[encoded data removed]",
            "text/plain": [
              "<Figure size 432x288 with 1 Axes>"
            ]
          },
          "metadata": {
            "tags": [],
            "needs_background": "light"
          }
        },
        {
          "output_type": "stream",
          "text": [
            "Input number of generations to run evolution for (higher is better, but increases computational time)(50 or above is recommended): 100\n",
            "Initial distance: 2258.980019811172\n"
          ],
          "name": "stdout"
        }
      ]
    }
  ]
}